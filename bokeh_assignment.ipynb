{
 "cells": [
  {
   "cell_type": "code",
   "execution_count": null,
   "id": "a7bbf2f6-e57e-4368-ba56-58ce18e93451",
   "metadata": {},
   "outputs": [],
   "source": [
    "1>"
   ]
  },
  {
   "cell_type": "code",
   "execution_count": 2,
   "id": "a5bd598a-83f3-4c96-99be-7bdae9f5e443",
   "metadata": {},
   "outputs": [],
   "source": [
    "from bokeh.plotting import figure, show\n",
    "import numpy as np\n",
    "\n",
    "# Some sample data\n",
    "x = np.array([1, 2, 3, 4, 5])\n",
    "y = np.array([6, 7, 2, 4, 5])\n",
    "\n",
    "# Create a figure\n",
    "p = figure(title='Simple Scatter Plot', x_axis_label='X-axis', y_axis_label='Y-axis')\n",
    "\n",
    "# Add data to the figure\n",
    "p.scatter(x, y, size=10, color='blue')\n",
    "\n",
    "# Show the plot\n",
    "show(p)\n"
   ]
  },
  {
   "cell_type": "code",
   "execution_count": null,
   "id": "41b54b1c-bae2-4514-9a32-a5b87f6f4798",
   "metadata": {},
   "outputs": [],
   "source": [
    "2>"
   ]
  },
  {
   "cell_type": "code",
   "execution_count": null,
   "id": "6f0ab3f2-3ac8-4f4d-81d6-0b94775b3134",
   "metadata": {},
   "outputs": [],
   "source": [
    "In Bokeh, glyphs are visual shapes or markers that represent data points on a plot. They are fundamental building\n",
    "blocks of Bokeh plots and can be used to display various types of data, such as points, lines, bars, patches, and \n",
    "more. Each glyph type has different properties that you can customize, allowing you to create rich and interactive\n",
    "visualizations."
   ]
  },
  {
   "cell_type": "code",
   "execution_count": null,
   "id": "cccc3f81-ef60-46ff-9426-f0955d3a145c",
   "metadata": {},
   "outputs": [],
   "source": [
    "from bokeh.plotting import figure, show\n",
    "import numpy as np\n",
    "\n",
    "# Some sample data\n",
    "x = np.array([1, 2, 3, 4, 5])\n",
    "y = np.array([6, 7, 2, 4, 5])\n",
    "y2 = np.array([3, 8, 5, 2, 9])\n",
    "\n",
    "# Create a figure\n",
    "p = figure(title='Glyph Example', x_axis_label='X-axis', y_axis_label='Y-axis')\n",
    "\n",
    "# Add circles glyph\n",
    "p.circle(x, y, size=10, color='blue', legend_label='Circles')\n",
    "\n",
    "# Add lines glyph\n",
    "p.line(x, y2, line_width=2, color='red', legend_label='Lines')\n",
    "\n",
    "# Add a legend to the plot\n",
    "p.legend.location = 'top_left'\n",
    "\n",
    "# Show the plot\n",
    "show(p)\n"
   ]
  },
  {
   "cell_type": "code",
   "execution_count": null,
   "id": "43b387c0-e4ba-45b6-bd02-592f5099c554",
   "metadata": {},
   "outputs": [],
   "source": [
    "3<In Bokeh, you can customize the appearance of a plot, including the axes, title, and legend, by setting various \n",
    "properties of the plot and its components. Bokeh provides a wide range of options for customizing the visual\n",
    "aspects of the plot to make it more informative and visually appealing. Here's how you can customize different\n",
    "elements of a Bokeh plot:"
   ]
  },
  {
   "cell_type": "code",
   "execution_count": null,
   "id": "f38d7a60-d851-401d-bb36-c0907773c3c2",
   "metadata": {},
   "outputs": [],
   "source": [
    "from bokeh.plotting import figure, show\n",
    "import numpy as np\n",
    "\n",
    "# Some sample data\n",
    "x = np.array([1, 2, 3, 4, 5])\n",
    "y = np.array([6, 7, 2, 4, 5])\n",
    "\n",
    "# Create a figure\n",
    "p = figure(title='Customized Plot', x_axis_label='X-axis', y_axis_label='Y-axis')\n",
    "\n",
    "# Add circles glyph\n",
    "p.circle(x, y, size=10, color='blue')\n",
    "\n",
    "# Customize plot properties\n",
    "p.title.text_color = 'navy'\n",
    "p.title.text_font = 'helvetica'\n",
    "p.title.text_font_size = '18pt'\n",
    "\n",
    "p.xaxis.axis_label_text_color = 'green'\n",
    "p.xaxis.axis_label_text_font_style = 'italic'\n",
    "\n",
    "p.yaxis.axis_label_text_color = 'purple'\n",
    "p.yaxis.axis_label_text_font_size = '14pt'\n",
    "\n",
    "# Show the plot\n",
    "show(p)\n"
   ]
  },
  {
   "cell_type": "code",
   "execution_count": null,
   "id": "aebcc145-a019-4542-8f4c-a2e06d51d3a1",
   "metadata": {},
   "outputs": [],
   "source": [
    "4>Bokeh server is a feature of the Bokeh library that allows you to create interactive web applications \n",
    "with live, real-time updates. It enables you to build dynamic data visualizations that respond to user\n",
    "interactions or changes in the underlying data without the need to reload the entire page.\n",
    "\n",
    "When you create a Bokeh server application, you are essentially running a Python script or a Python \n",
    "function that defines the layout and behavior of the web application. This script is executed on the\n",
    "server-side, and Bokeh automatically handles the communication between the server and the client (web browser).\n",
    "\n",
    "With Bokeh server, you can build applications that include:\n",
    "\n",
    "Interactive Plots: Users can pan, zoom, and interact with the plot using Bokeh's interactive tools.\n",
    "\n",
    "Widgets: You can add various widgets like sliders, buttons, dropdowns, etc., to allow users to control \n",
    "the data displayed on the plot.\n",
    "\n",
    "Real-time Updates: Bokeh server enables you to update the plot or its data in real-time in response to user\n",
    "interactions or changes in the data source."
   ]
  },
  {
   "cell_type": "code",
   "execution_count": null,
   "id": "4c22a849-c21e-486a-99e0-9eca83a72380",
   "metadata": {},
   "outputs": [],
   "source": [
    "5."
   ]
  },
  {
   "cell_type": "code",
   "execution_count": null,
   "id": "df845696-27b7-4b0d-97f6-e336b9c5a5f1",
   "metadata": {},
   "outputs": [],
   "source": []
  },
  {
   "cell_type": "code",
   "execution_count": null,
   "id": "d7a11a94-c8ae-4e8d-8d8c-96e2c88b078c",
   "metadata": {},
   "outputs": [],
   "source": []
  }
 ],
 "metadata": {
  "kernelspec": {
   "display_name": "Python 3 (ipykernel)",
   "language": "python",
   "name": "python3"
  },
  "language_info": {
   "codemirror_mode": {
    "name": "ipython",
    "version": 3
   },
   "file_extension": ".py",
   "mimetype": "text/x-python",
   "name": "python",
   "nbconvert_exporter": "python",
   "pygments_lexer": "ipython3",
   "version": "3.10.8"
  }
 },
 "nbformat": 4,
 "nbformat_minor": 5
}
